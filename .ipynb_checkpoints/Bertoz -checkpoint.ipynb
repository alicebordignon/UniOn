{
 "cells": [
  {
   "cell_type": "code",
   "execution_count": 1,
   "id": "792309b2",
   "metadata": {},
   "outputs": [
    {
     "name": "stdout",
     "output_type": "stream",
     "text": [
      "Requirement already satisfied: owlready2 in c:\\users\\bordi\\appdata\\local\\packages\\pythonsoftwarefoundation.python.3.7_qbz5n2kfra8p0\\localcache\\local-packages\\python37\\site-packages (0.38)\n"
     ]
    },
    {
     "name": "stderr",
     "output_type": "stream",
     "text": [
      "WARNING: You are using pip version 22.0.4; however, version 22.2.2 is available.\n",
      "You should consider upgrading via the 'C:\\Users\\bordi\\AppData\\Local\\Microsoft\\WindowsApps\\PythonSoftwareFoundation.Python.3.7_qbz5n2kfra8p0\\python.exe -m pip install --upgrade pip' command.\n"
     ]
    }
   ],
   "source": [
    "! pip install owlready2"
   ]
  },
  {
   "cell_type": "code",
   "execution_count": 2,
   "id": "1aa42513",
   "metadata": {},
   "outputs": [
    {
     "name": "stderr",
     "output_type": "stream",
     "text": [
      "* Owlready2 * Warning: optimized Cython parser module 'owlready2_optimized' is not available, defaulting to slower Python implementation\n"
     ]
    },
    {
     "data": {
      "text/plain": [
       "get_ontology(\"http://www.semanticweb.org/francesca/ontologies/2022/6/untitled-ontology-24#\")"
      ]
     },
     "execution_count": 2,
     "metadata": {},
     "output_type": "execute_result"
    }
   ],
   "source": [
    "from owlready2 import *\n",
    "onto_path.append(\"C:/Users/bordi/OneDrive/Desktop/Gangemi/Ontologia\")\n",
    "onto = get_ontology(\"UniOnt.owl\")\n",
    "onto.load()"
   ]
  },
  {
   "cell_type": "code",
   "execution_count": 3,
   "id": "70dd87f3",
   "metadata": {},
   "outputs": [
    {
     "name": "stdout",
     "output_type": "stream",
     "text": [
      "[UniOnt.ItalianPublicUniversity, UniOnt.DegreeProgramme, UniOnt.Course, UniOnt.AssessmentMethod, UniOnt.Department, UniOnt.dul:Place, UniOnt.EducationalActivity, UniOnt.AcademicField, UniOnt.AccessType, UniOnt.BachelorDegree, UniOnt.Campus, UniOnt.Curriculum, UniOnt.Eligibility, UniOnt.InternationalDegree, UniOnt.InternationalQualification, UniOnt.Internship, UniOnt.Laboratory, UniOnt.LimitedAccess, UniOnt.LimitedAccessDegree, UniOnt.OpenAccessDegree, UniOnt.MasterDegree, UniOnt.OpenAccess, UniOnt.OralExam, UniOnt.Project, UniOnt.Seminar, UniOnt.SingleCycleDegree, UniOnt.WrittenExam]\n"
     ]
    }
   ],
   "source": [
    "print(list(onto.classes()))"
   ]
  },
  {
   "cell_type": "code",
   "execution_count": 4,
   "id": "f9da459e",
   "metadata": {},
   "outputs": [
    {
     "name": "stdout",
     "output_type": "stream",
     "text": [
      "DHDK\n"
     ]
    }
   ],
   "source": [
    "my_degree = onto.DegreeProgramme(\"DHDK\")\n",
    "print(my_degree.name)"
   ]
  },
  {
   "cell_type": "code",
   "execution_count": 5,
   "id": "675a10f8",
   "metadata": {},
   "outputs": [
    {
     "name": "stdout",
     "output_type": "stream",
     "text": [
      "Arti_Visive\n"
     ]
    }
   ],
   "source": [
    "my_degree = onto.DegreeProgramme(\"Arti_Visive\")\n",
    "print(my_degree.name)"
   ]
  },
  {
   "cell_type": "code",
   "execution_count": 6,
   "id": "66539798",
   "metadata": {},
   "outputs": [],
   "source": [
    "onto.save(\"Prova.owl\")"
   ]
  },
  {
   "cell_type": "code",
   "execution_count": 7,
   "id": "cb56f834",
   "metadata": {},
   "outputs": [],
   "source": [
    "my_degree.label = \"Arti Visive\""
   ]
  },
  {
   "cell_type": "code",
   "execution_count": 8,
   "id": "311917c7",
   "metadata": {},
   "outputs": [],
   "source": [
    "onto.save(\"Prova.owl\")"
   ]
  },
  {
   "cell_type": "code",
   "execution_count": 9,
   "id": "f4fbcda2",
   "metadata": {},
   "outputs": [],
   "source": [
    "my_campus = onto.Campus(\"Bologna\")"
   ]
  },
  {
   "cell_type": "code",
   "execution_count": 11,
   "id": "32e0cec6",
   "metadata": {},
   "outputs": [],
   "source": [
    "my_degree.hasCampus.append(\"Bologna\")"
   ]
  },
  {
   "cell_type": "code",
   "execution_count": null,
   "id": "af8ed57b",
   "metadata": {},
   "outputs": [],
   "source": []
  }
 ],
 "metadata": {
  "kernelspec": {
   "display_name": "Python 3 (ipykernel)",
   "language": "python",
   "name": "python3"
  },
  "language_info": {
   "codemirror_mode": {
    "name": "ipython",
    "version": 3
   },
   "file_extension": ".py",
   "mimetype": "text/x-python",
   "name": "python",
   "nbconvert_exporter": "python",
   "pygments_lexer": "ipython3",
   "version": "3.7.9"
  }
 },
 "nbformat": 4,
 "nbformat_minor": 5
}
