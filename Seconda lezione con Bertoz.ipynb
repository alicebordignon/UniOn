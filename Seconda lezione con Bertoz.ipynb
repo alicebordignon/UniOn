{
 "cells": [
  {
   "cell_type": "code",
   "execution_count": 1,
   "id": "4f405341",
   "metadata": {},
   "outputs": [
    {
     "name": "stdout",
     "output_type": "stream",
     "text": [
      "Requirement already satisfied: owlready2 in c:\\users\\bordi\\appdata\\local\\packages\\pythonsoftwarefoundation.python.3.7_qbz5n2kfra8p0\\localcache\\local-packages\\python37\\site-packages (0.38)\n"
     ]
    },
    {
     "name": "stderr",
     "output_type": "stream",
     "text": [
      "WARNING: You are using pip version 22.0.4; however, version 22.2.2 is available.\n",
      "You should consider upgrading via the 'C:\\Users\\bordi\\AppData\\Local\\Microsoft\\WindowsApps\\PythonSoftwareFoundation.Python.3.7_qbz5n2kfra8p0\\python.exe -m pip install --upgrade pip' command.\n"
     ]
    }
   ],
   "source": [
    "! pip install owlready2"
   ]
  },
  {
   "cell_type": "code",
   "execution_count": 2,
   "id": "4da58c7d",
   "metadata": {},
   "outputs": [],
   "source": [
    "import pandas as pd\n",
    "import numpy as np"
   ]
  },
  {
   "cell_type": "code",
   "execution_count": 3,
   "id": "43b4ceb5",
   "metadata": {},
   "outputs": [],
   "source": [
    "data = pd.read_csv(\"FinalData.csv\", sep=\",\", encoding=\"utf-8\")"
   ]
  },
  {
   "cell_type": "code",
   "execution_count": 4,
   "id": "bc85fac2",
   "metadata": {},
   "outputs": [],
   "source": [
    "data = data.to_dict(\"index\")"
   ]
  },
  {
   "cell_type": "code",
   "execution_count": 5,
   "id": "2a53760c",
   "metadata": {},
   "outputs": [
    {
     "name": "stderr",
     "output_type": "stream",
     "text": [
      "* Owlready2 * Warning: optimized Cython parser module 'owlready2_optimized' is not available, defaulting to slower Python implementation\n"
     ]
    },
    {
     "data": {
      "text/plain": [
       "get_ontology(\"http://www.semanticweb.org/francesca/ontologies/2022/6/untitled-ontology-24#\")"
      ]
     },
     "execution_count": 5,
     "metadata": {},
     "output_type": "execute_result"
    }
   ],
   "source": [
    "from owlready2 import *\n",
    "onto_path.append(\"C:/Users/bordi/OneDrive/Desktop/Gangemi/Ontologia\")\n",
    "onto = get_ontology(\"UniOnt.owl\")\n",
    "onto.load()"
   ]
  },
  {
   "cell_type": "code",
   "execution_count": 6,
   "id": "76f784a5",
   "metadata": {},
   "outputs": [],
   "source": [
    "for record in data.values():\n",
    "    if record[\"International\"] is True:\n",
    "        my_degree = onto.InternationalDegree(record[\"DegreeProgramme\"].split(\"/\")[-1])\n",
    "    else:\n",
    "        my_degree = onto.DegreeProgramme(record[\"DegreeProgramme\"].split(\"/\")[-1])\n",
    "        \n",
    "    my_degree.label = record[\"DegreeProgrammeLabel\"]\n",
    "    \n",
    "    my_educational_activity = onto.EducationalActivity(record[\"EducationalActivity\"].replace(\" \", \"_\"))\n",
    "    my_educational_activity.label = record[\"EducationalActivity\"]\n",
    "    \n",
    "    my_degree.hasEducationalActivity.append(my_educational_activity)\n",
    "    \n",
    "    my_degree.hasUrl = [record[\"DegreeProgramme\"]] #aggiungere url come proprietà \n",
    "    \n",
    "    my_degree.hasAcademicYear = [record[\"academicYear\"]] #data property\n",
    "    \n",
    "    #ricordarsi di aggiungere sempre le labels quando si creano nuovi individui \n",
    "    #riempire database internationalQualification con \"unique qualification\"\n"
   ]
  },
  {
   "cell_type": "code",
   "execution_count": 7,
   "id": "9edf4115",
   "metadata": {},
   "outputs": [],
   "source": [
    "onto.save(\"Prova.owl\")"
   ]
  },
  {
   "cell_type": "code",
   "execution_count": null,
   "id": "09233954",
   "metadata": {},
   "outputs": [],
   "source": []
  }
 ],
 "metadata": {
  "kernelspec": {
   "display_name": "Python 3 (ipykernel)",
   "language": "python",
   "name": "python3"
  },
  "language_info": {
   "codemirror_mode": {
    "name": "ipython",
    "version": 3
   },
   "file_extension": ".py",
   "mimetype": "text/x-python",
   "name": "python",
   "nbconvert_exporter": "python",
   "pygments_lexer": "ipython3",
   "version": "3.7.9"
  }
 },
 "nbformat": 4,
 "nbformat_minor": 5
}
