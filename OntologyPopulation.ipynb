{
 "cells": [
  {
   "cell_type": "code",
   "execution_count": 1,
   "id": "fc62786e",
   "metadata": {},
   "outputs": [
    {
     "name": "stdout",
     "output_type": "stream",
     "text": [
      "Requirement already satisfied: owlready2 in c:\\users\\bordi\\appdata\\local\\packages\\pythonsoftwarefoundation.python.3.7_qbz5n2kfra8p0\\localcache\\local-packages\\python37\\site-packages (0.38)\n"
     ]
    },
    {
     "name": "stderr",
     "output_type": "stream",
     "text": [
      "WARNING: You are using pip version 22.0.4; however, version 22.2.2 is available.\n",
      "You should consider upgrading via the 'C:\\Users\\bordi\\AppData\\Local\\Microsoft\\WindowsApps\\PythonSoftwareFoundation.Python.3.7_qbz5n2kfra8p0\\python.exe -m pip install --upgrade pip' command.\n"
     ]
    }
   ],
   "source": [
    "! pip install owlready2"
   ]
  },
  {
   "cell_type": "code",
   "execution_count": 2,
   "id": "5cd83e80",
   "metadata": {},
   "outputs": [],
   "source": [
    "import pandas as pd\n",
    "import numpy as np"
   ]
  },
  {
   "cell_type": "code",
   "execution_count": 28,
   "id": "bc8c5709",
   "metadata": {},
   "outputs": [
    {
     "data": {
      "text/plain": [
       "get_ontology(\"http://www.semanticweb.org/francesca/ontologies/2022/6/untitled-ontology-24#\")"
      ]
     },
     "execution_count": 28,
     "metadata": {},
     "output_type": "execute_result"
    }
   ],
   "source": [
    "from owlready2 import *\n",
    "onto_path.append(\"C:/Users/bordi/OneDrive/Desktop/Gangemi/Ontologia\")\n",
    "onto = get_ontology(\"UniOnt.owl\")\n",
    "onto.load()"
   ]
  },
  {
   "cell_type": "code",
   "execution_count": 29,
   "id": "24251c80",
   "metadata": {},
   "outputs": [
    {
     "name": "stdout",
     "output_type": "stream",
     "text": [
      "[UniOnt.ItalianPublicUniversity, UniOnt.DegreeProgramme, UniOnt.EducationalActivity, UniOnt.AssessmentMethod, UniOnt.dul:Place, UniOnt.Department, UniOnt.AcademicField, UniOnt.AccessType, UniOnt.BachelorDegree, UniOnt.Course, UniOnt.Curriculum, UniOnt.Qualification, UniOnt.FinalTest, UniOnt.InternationalDegree, UniOnt.Internship, UniOnt.Laboratory, UniOnt.LimitedAccessDegree, UniOnt.OpenAccessDegree, UniOnt.MasterDegree, UniOnt.Seminar, UniOnt.SingleCycleDegree]\n"
     ]
    }
   ],
   "source": [
    "print(list(onto.classes()))"
   ]
  },
  {
   "cell_type": "code",
   "execution_count": 30,
   "id": "4f5a35b5",
   "metadata": {},
   "outputs": [
    {
     "name": "stdout",
     "output_type": "stream",
     "text": [
      "UniOnt.LimitedAccess\n",
      "UniOnt.OpenAccess\n"
     ]
    }
   ],
   "source": [
    "for i in onto.AccessType.instances():\n",
    "    print(i)"
   ]
  },
  {
   "cell_type": "code",
   "execution_count": 31,
   "id": "dcabe704",
   "metadata": {},
   "outputs": [],
   "source": [
    "data = pd.read_csv(\"FinalData.csv\", sep=\",\", encoding=\"utf-8\")"
   ]
  },
  {
   "cell_type": "code",
   "execution_count": 32,
   "id": "ba5c998e",
   "metadata": {},
   "outputs": [],
   "source": [
    "data = data.to_dict(\"index\")"
   ]
  },
  {
   "cell_type": "code",
   "execution_count": 33,
   "id": "42bbef56",
   "metadata": {},
   "outputs": [],
   "source": [
    "for record in data.values():\n",
    "    if record[\"International\"] is True:\n",
    "        my_degree = onto.InternationalDegree(record[\"DegreeProgramme\"].split(\"/\")[-1])       \n",
    "    if record[\"International\"] is False:\n",
    "        my_degree = onto.DegreeProgramme(record[\"DegreeProgramme\"].split(\"/\")[-1])\n",
    "        \n",
    "#type       \n",
    "    if record[\"type\"] == \"Laurea\":\n",
    "        my_degree = onto.BachelorDegree(record[\"DegreeProgramme\"].split(\"/\")[-1])\n",
    "    if record[\"type\"] == \"Laurea Magistrale\":\n",
    "        my_degree = onto.MasterDegree(record[\"DegreeProgramme\"].split(\"/\")[-1])\n",
    "    if record[\"type\"] == \"Laurea Magistrale a ciclo unico\":\n",
    "        my_degree = onto.SingleCycleDegree(record[\"DegreeProgramme\"].split(\"/\")[-1])\n",
    "        \n",
    "        \n",
    "#access     \n",
    "    if \"libero accesso\" in record[\"AccessType\"]: \n",
    "        my_degree.hasAccessType = [onto.AccessType(\"OpenAccess\")]\n",
    "               \n",
    "    if \"numero chiuso\" in record[\"AccessType\"]:\n",
    "        my_degree.hasAccessType = [onto.AccessType(\"LimitedAccess\")]\n",
    "                \n",
    "    my_degree.label = record[\"DegreeProgrammeLabel\"]\n",
    "    \n",
    "#We are going to create the italian university \n",
    "    my_university = onto.ItalianPublicUniversity(record[\"Italian University\"].replace(\" \", \"_\"))\n",
    "    my_university.label = record[\"Italian University\"]\n",
    "    \n",
    "    my_degree.isDeliveredBy = [onto.ItalianPublicUniversity(my_university)]\n",
    " \n",
    "\n",
    "\n",
    "    if \"Exam\" in record[\"typeOfActivity\"]: \n",
    "        my_educational_activity = onto.Course(record[\"EducationalActivity\"].replace(\" \", \"_\"))\n",
    "    if \"Internship\" in record[\"typeOfActivity\"]: \n",
    "        my_educational_activity = onto.Internship(record[\"EducationalActivity\"].replace(\" \", \"_\"))\n",
    "    if \"Seminar\" in record[\"typeOfActivity\"]: \n",
    "        my_educational_activity = onto.Seminar(record[\"EducationalActivity\"].replace(\" \", \"_\"))\n",
    "    if \"Laboratory\" in record[\"typeOfActivity\"]: \n",
    "        my_educational_activity = onto.Laboratory(record[\"EducationalActivity\"].replace(\" \", \"_\"))\n",
    "    if \"Final Test\" in record[\"typeOfActivity\"]: \n",
    "        my_educational_activity = onto.FinalTest(record[\"EducationalActivity\"].replace(\" \", \"_\"))\n",
    "    \n",
    "        \n",
    "    \n",
    "    my_educational_activity.label = record[\"EducationalActivity\"]   \n",
    "    my_degree.hasEducationalActivity.append(my_educational_activity)\n",
    "    \n",
    "\n",
    "\n",
    "#creiamo l'url\n",
    "    #my_degree.hasUrl = [record[\"DegreeProgramme\"]] #aggiungere url come proprietà \n",
    "    \n",
    "    #my_degree.hasAcademicYear = [record[\"academicYear\"]] #data property\n",
    "    \n",
    "    \n",
    "    \n",
    "    #ricordarsi di aggiungere sempre le labels quando si creano nuovi individui "
   ]
  },
  {
   "cell_type": "code",
   "execution_count": 34,
   "id": "148de737",
   "metadata": {},
   "outputs": [],
   "source": [
    "onto.save(\"Provola.owl\")"
   ]
  },
  {
   "cell_type": "code",
   "execution_count": null,
   "id": "2e3fe69b",
   "metadata": {},
   "outputs": [],
   "source": []
  }
 ],
 "metadata": {
  "kernelspec": {
   "display_name": "Python 3 (ipykernel)",
   "language": "python",
   "name": "python3"
  },
  "language_info": {
   "codemirror_mode": {
    "name": "ipython",
    "version": 3
   },
   "file_extension": ".py",
   "mimetype": "text/x-python",
   "name": "python",
   "nbconvert_exporter": "python",
   "pygments_lexer": "ipython3",
   "version": "3.7.9"
  }
 },
 "nbformat": 4,
 "nbformat_minor": 5
}
