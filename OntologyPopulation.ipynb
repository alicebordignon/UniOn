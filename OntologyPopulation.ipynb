{
 "cells": [
  {
   "cell_type": "markdown",
   "id": "b81e62b0",
   "metadata": {},
   "source": [
    "# Ontology population \n",
    "In the following Jupyter notebook, we will populate our ontology using OwlReady2, a package for ontology-oriented programming in Python. It can load OWL 2.0 ontologies as Python objects, modify them, save them, and perform reasoning via HermiT."
   ]
  },
  {
   "cell_type": "code",
   "execution_count": 1,
   "id": "fc62786e",
   "metadata": {},
   "outputs": [
    {
     "name": "stdout",
     "output_type": "stream",
     "text": [
      "Requirement already satisfied: owlready2 in c:\\users\\bordi\\appdata\\local\\packages\\pythonsoftwarefoundation.python.3.7_qbz5n2kfra8p0\\localcache\\local-packages\\python37\\site-packages (0.38)\n"
     ]
    },
    {
     "name": "stderr",
     "output_type": "stream",
     "text": [
      "WARNING: You are using pip version 22.0.4; however, version 22.2.2 is available.\n",
      "You should consider upgrading via the 'C:\\Users\\bordi\\AppData\\Local\\Microsoft\\WindowsApps\\PythonSoftwareFoundation.Python.3.7_qbz5n2kfra8p0\\python.exe -m pip install --upgrade pip' command.\n"
     ]
    }
   ],
   "source": [
    "! pip install owlready2"
   ]
  },
  {
   "cell_type": "code",
   "execution_count": 2,
   "id": "5cd83e80",
   "metadata": {},
   "outputs": [],
   "source": [
    "import pandas as pd\n",
    "import numpy as np"
   ]
  },
  {
   "cell_type": "markdown",
   "id": "1a553962",
   "metadata": {},
   "source": [
    "First of all, we load our ontology. We loaded also the Dolce ontology since we used a class and a couple of properties belonging to it. This passage allows to use the correct prefix in both cases. "
   ]
  },
  {
   "cell_type": "code",
   "execution_count": 3,
   "id": "bc8c5709",
   "metadata": {},
   "outputs": [
    {
     "name": "stderr",
     "output_type": "stream",
     "text": [
      "* Owlready2 * Warning: optimized Cython parser module 'owlready2_optimized' is not available, defaulting to slower Python implementation\n"
     ]
    },
    {
     "data": {
      "text/plain": [
       "get_ontology(\"http://purl.org/ontology/UniOn#\")"
      ]
     },
     "execution_count": 3,
     "metadata": {},
     "output_type": "execute_result"
    }
   ],
   "source": [
    "from owlready2 import *\n",
    "onto_path.append(\"C:/Users/bordi/OneDrive/Desktop/Gangemi/Ontologia\")\n",
    "onto = get_ontology(\"FinalUniOn.owl\")\n",
    "onto.load()\n"
   ]
  },
  {
   "cell_type": "code",
   "execution_count": 4,
   "id": "570d2b40",
   "metadata": {},
   "outputs": [
    {
     "data": {
      "text/plain": [
       "get_ontology(\"http://www.ontologydesignpatterns.org/ont/dul/DUL.owl#\")"
      ]
     },
     "execution_count": 4,
     "metadata": {},
     "output_type": "execute_result"
    }
   ],
   "source": [
    "dul = get_ontology(\"http://www.ontologydesignpatterns.org/ont/dul/DUL.owl\")\n",
    "dul.load()"
   ]
  },
  {
   "cell_type": "markdown",
   "id": "d08518c9",
   "metadata": {},
   "source": [
    "We try to print our classes to check everything is fine and loaded correctly. "
   ]
  },
  {
   "cell_type": "code",
   "execution_count": 5,
   "id": "24251c80",
   "metadata": {},
   "outputs": [
    {
     "name": "stdout",
     "output_type": "stream",
     "text": [
      "[FinalUniOn.DegreeProgramme, FinalUniOn.ItalianPublicUniversity, FinalUniOn.AcademicField, FinalUniOn.AccessType, FinalUniOn.AssessmentMethod, FinalUniOn.EducationalActivity, DUL.Place, FinalUniOn.Curriculum, FinalUniOn.Department, FinalUniOn.Qualification, FinalUniOn.BachelorDegree, FinalUniOn.Course, FinalUniOn.FinalTest, FinalUniOn.InternationalDegree, FinalUniOn.Internship, FinalUniOn.Laboratory, FinalUniOn.LimitedAccessDegree, FinalUniOn.OpenAccessDegree, FinalUniOn.MasterDegree, FinalUniOn.Seminar, FinalUniOn.SingleCycleDegree]\n"
     ]
    }
   ],
   "source": [
    "print(list(onto.classes()))"
   ]
  },
  {
   "cell_type": "markdown",
   "id": "1e4acf03",
   "metadata": {},
   "source": [
    "We decided to treat our final data frame as a dictionary to better iterate on its values and popolate our ontology. "
   ]
  },
  {
   "cell_type": "code",
   "execution_count": 6,
   "id": "dcabe704",
   "metadata": {},
   "outputs": [],
   "source": [
    "data = pd.read_csv(\"FinalData.csv\", sep=\",\", encoding=\"utf-8\")"
   ]
  },
  {
   "cell_type": "code",
   "execution_count": 7,
   "id": "ba5c998e",
   "metadata": {},
   "outputs": [],
   "source": [
    "data = data.to_dict(\"index\")"
   ]
  },
  {
   "cell_type": "markdown",
   "id": "074be782",
   "metadata": {},
   "source": [
    "To populate our classes we need to iterate on our values, creating the individuals, their labels, and establishing relationships among them. "
   ]
  },
  {
   "cell_type": "code",
   "execution_count": 8,
   "id": "42bbef56",
   "metadata": {},
   "outputs": [],
   "source": [
    "#we create all the Degree programmes, keeping as the IRI the final entity number.\n",
    "#then, we add to the international subclass the degree programmes declared as international in our df. \n",
    "\n",
    "for record in data.values():\n",
    "    my_degree = onto.DegreeProgramme(record[\"DegreeProgramme\"].split(\"/\")[-1])\n",
    "    if record[\"International\"] is True:\n",
    "        my_degree = onto.InternationalDegree(record[\"DegreeProgramme\"].split(\"/\")[-1])\n",
    "        \n",
    "        \n",
    "    #differentiate degree programmes based on types       \n",
    "    if record[\"type\"] == \"Laurea\":\n",
    "        my_degree = onto.BachelorDegree(record[\"DegreeProgramme\"].split(\"/\")[-1])\n",
    "    if record[\"type\"] == \"Laurea Magistrale\":\n",
    "        my_degree = onto.MasterDegree(record[\"DegreeProgramme\"].split(\"/\")[-1])\n",
    "    if record[\"type\"] == \"Laurea Magistrale a ciclo unico\":\n",
    "        my_degree = onto.SingleCycleDegree(record[\"DegreeProgramme\"].split(\"/\")[-1])\n",
    "        \n",
    "        \n",
    "    #differentiate degree programmes based on access        \n",
    "    if \"libero accesso\" in record[\"AccessType\"]: \n",
    "        my_degree.hasAccessType = [onto.AccessType(\"OpenAccess\")]\n",
    "        my_degree = onto.OpenAccessDegree(my_degree)\n",
    "               \n",
    "    if \"numero chiuso\" in record[\"AccessType\"]:\n",
    "        my_degree.hasAccessType = [onto.AccessType(\"LimitedAccess\")]\n",
    "        my_degree = onto.LimitedAccessDegree(my_degree)\n",
    "\n",
    "\n",
    "    #giving a label to all Degree programmes                \n",
    "    my_degree.label = record[\"DegreeProgrammeLabel\"]\n",
    "\n",
    "    #academic field\n",
    "    my_academicField = onto.AcademicField(record[\"AcademicField\"].replace(\" \", \"_\"))\n",
    "    my_academicField.label = record[\"AcademicField\"]\n",
    "    \n",
    "    my_degree.hasAcademicField.append(my_academicField)\n",
    "    \n",
    "    #italian university \n",
    "    my_university = onto.ItalianPublicUniversity(record[\"Italian University\"].replace(\" \", \"_\"))\n",
    "    my_university.label = record[\"Italian University\"]\n",
    "    \n",
    "    my_degree.isDeliveredBy = [onto.ItalianPublicUniversity(my_university)]\n",
    "    \n",
    "    #type of educational activities and identifiers \n",
    "    if \"Exam\" in record[\"typeOfActivity\"]: \n",
    "        my_educational_activity = onto.Course(record[\"EducationalActivity\"].replace(\" \", \"_\"))\n",
    "        my_educational_activity.hasSsd = [record[\"Ssd\"]]\n",
    "        \n",
    "    if \"Internship\" in record[\"typeOfActivity\"]: \n",
    "        my_educational_activity = onto.Internship(record[\"EducationalActivity\"].replace(\" \", \"_\"))\n",
    "    if \"Seminar\" in record[\"typeOfActivity\"]: \n",
    "        my_educational_activity = onto.Seminar(record[\"EducationalActivity\"].replace(\" \", \"_\"))\n",
    "    if \"Laboratory\" in record[\"typeOfActivity\"]: \n",
    "        my_educational_activity = onto.Laboratory(record[\"EducationalActivity\"].replace(\" \", \"_\"))\n",
    "    if \"Final Test\" in record[\"typeOfActivity\"]: \n",
    "        my_educational_activity = onto.FinalTest(record[\"EducationalActivity\"].replace(\" \", \"_\"))\n",
    "    \n",
    "          \n",
    "    my_educational_activity.label = [record[\"EducationalActivity\"]]\n",
    "    my_educational_activity.hasCfu = [record[\"Cfu\"]]\n",
    "    my_educational_activity.hasTeachingCode = [record[\"TeachingCode\"]]\n",
    "    \n",
    "    \n",
    "    my_degree.hasEducationalActivity.append(my_educational_activity)\n",
    "    \n",
    "    \n",
    "    #departments and relationship between Degree programmes - department, university - department\n",
    "    \n",
    "    my_department = onto.Department(record[\"Department\"].replace(\" \", \"_\"))\n",
    "    my_department.label = record[\"Department\"]\n",
    "    \n",
    "    my_degree.isManagedBy = [onto.Department(my_department)]\n",
    "\n",
    "    #relazione tra dipartimenti e università \n",
    "    \n",
    "    my_department.isPartOf.append(my_university)\n",
    "\n",
    "\n",
    "    #url for degree programmes\n",
    "    my_degree.hasUrl = [record[\"DegreeProgramme\"]] #data property    \n",
    "    \n",
    "    #academic year    \n",
    "    my_degree.hasAcademicYear = [record[\"academicYear\"]] #data property\n",
    "    \n",
    "    #degree class    \n",
    "    my_degree.hasDegreeClass = [record[\"DegreeClass\"]] #data property \n",
    "\n",
    "    #yearsofDuration\n",
    "    my_degree.hasYearsOfDuration = [record[\"hasYearsOfDuration\"]] #data property \n",
    "    \n",
    "    #language\n",
    "    my_degree.hasTeachingLanguage = [record[\"TeachingLanguage\"]] #data property \n",
    "   \n",
    "\n",
    "    #qualification \n",
    "    if \"Titolo unico\" in record[\"Qualification\"]: \n",
    "        my_degree.releases = [onto.Qualification(\"SingleQualification\")]               \n",
    "    if \"Titolo multiplo\" in record[\"Qualification\"]:\n",
    "        my_degree.releases = [onto.Qualification(\"MultipleQualification\")]\n",
    "    if \"Titolo congiunto\" in record[\"Qualification\"]:\n",
    "        my_degree.releases = [onto.Qualification(\"JointQualification\")]  \n",
    "\n",
    "    #places (campus)\n",
    "    my_campus = dul.Place(record[\"campus\"].replace(\" \", \"_\"))\n",
    "    my_campus.label = record[\"campus\"]\n",
    "                               \n",
    "    my_degree.hasCampus = [dul.Place(my_campus)]\n",
    "                                                           \n",
    "    #places (placesOfTeaching)\n",
    "    my_teachingPlace = dul.Place(record[\"PlaceOfTeaching\"].replace(\" \", \"_\"))\n",
    "    my_teachingPlace.label = record[\"PlaceOfTeaching\"]\n",
    "    \n",
    "    my_degree.hasPlaceOfTeaching = [dul.Place(my_teachingPlace)]\n"
   ]
  },
  {
   "cell_type": "code",
   "execution_count": 9,
   "id": "be70558b",
   "metadata": {},
   "outputs": [],
   "source": [
    "onto.save(\"UniOn.owl\")"
   ]
  },
  {
   "cell_type": "markdown",
   "id": "ad1607f7",
   "metadata": {},
   "source": [
    "Once the Reasoner is started, it deduces correctly what has been not declared manually. Thus, we can say our ontology seems correctly structured and working. "
   ]
  }
 ],
 "metadata": {
  "kernelspec": {
   "display_name": "Python 3 (ipykernel)",
   "language": "python",
   "name": "python3"
  },
  "language_info": {
   "codemirror_mode": {
    "name": "ipython",
    "version": 3
   },
   "file_extension": ".py",
   "mimetype": "text/x-python",
   "name": "python",
   "nbconvert_exporter": "python",
   "pygments_lexer": "ipython3",
   "version": "3.7.9"
  }
 },
 "nbformat": 4,
 "nbformat_minor": 5
}
