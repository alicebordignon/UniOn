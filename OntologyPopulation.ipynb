{
 "cells": [
  {
   "cell_type": "code",
   "execution_count": 1,
   "id": "fc62786e",
   "metadata": {},
   "outputs": [
    {
     "name": "stdout",
     "output_type": "stream",
     "text": [
      "Requirement already satisfied: owlready2 in c:\\users\\bordi\\appdata\\local\\packages\\pythonsoftwarefoundation.python.3.7_qbz5n2kfra8p0\\localcache\\local-packages\\python37\\site-packages (0.38)\n"
     ]
    },
    {
     "name": "stderr",
     "output_type": "stream",
     "text": [
      "WARNING: You are using pip version 22.0.4; however, version 22.2.2 is available.\n",
      "You should consider upgrading via the 'C:\\Users\\bordi\\AppData\\Local\\Microsoft\\WindowsApps\\PythonSoftwareFoundation.Python.3.7_qbz5n2kfra8p0\\python.exe -m pip install --upgrade pip' command.\n"
     ]
    }
   ],
   "source": [
    "! pip install owlready2"
   ]
  },
  {
   "cell_type": "code",
   "execution_count": 2,
   "id": "5cd83e80",
   "metadata": {},
   "outputs": [],
   "source": [
    "import pandas as pd\n",
    "import numpy as np"
   ]
  },
  {
   "cell_type": "code",
   "execution_count": 3,
   "id": "bc8c5709",
   "metadata": {},
   "outputs": [
    {
     "name": "stderr",
     "output_type": "stream",
     "text": [
      "* Owlready2 * Warning: optimized Cython parser module 'owlready2_optimized' is not available, defaulting to slower Python implementation\n"
     ]
    },
    {
     "data": {
      "text/plain": [
       "get_ontology(\"http://www.semanticweb.org/francesca/ontologies/2022/6/uni#\")"
      ]
     },
     "execution_count": 3,
     "metadata": {},
     "output_type": "execute_result"
    }
   ],
   "source": [
    "from owlready2 import *\n",
    "onto_path.append(\"C:/Users/bordi/OneDrive/Desktop/Gangemi/Ontologia\")\n",
    "onto = get_ontology(\"UniOnt.owl\")\n",
    "onto.load()\n"
   ]
  },
  {
   "cell_type": "code",
   "execution_count": 4,
   "id": "570d2b40",
   "metadata": {},
   "outputs": [
    {
     "data": {
      "text/plain": [
       "get_ontology(\"http://www.ontologydesignpatterns.org/ont/dul/DUL.owl#\")"
      ]
     },
     "execution_count": 4,
     "metadata": {},
     "output_type": "execute_result"
    }
   ],
   "source": [
    "dul = get_ontology(\"http://www.ontologydesignpatterns.org/ont/dul/DUL.owl\")\n",
    "dul.load()"
   ]
  },
  {
   "cell_type": "code",
   "execution_count": 5,
   "id": "24251c80",
   "metadata": {},
   "outputs": [
    {
     "name": "stdout",
     "output_type": "stream",
     "text": [
      "[UniOnt.ItalianPublicUniversity, UniOnt.Department, UniOnt.DegreeProgramme, UniOnt.EducationalActivity, UniOnt.AssessmentMethod, DUL.Place, UniOnt.AcademicField, UniOnt.AccessType, UniOnt.BachelorDegree, UniOnt.Course, UniOnt.Curriculum, UniOnt.Qualification, UniOnt.FinalTest, UniOnt.InternationalDegree, UniOnt.Internship, UniOnt.Laboratory, UniOnt.LimitedAccessDegree, UniOnt.OpenAccessDegree, UniOnt.MasterDegree, UniOnt.Seminar, UniOnt.SingleCycleDegree]\n"
     ]
    }
   ],
   "source": [
    "print(list(onto.classes()))"
   ]
  },
  {
   "cell_type": "code",
   "execution_count": 6,
   "id": "dcabe704",
   "metadata": {},
   "outputs": [],
   "source": [
    "data = pd.read_csv(\"FinalData.csv\", sep=\",\", encoding=\"utf-8\")"
   ]
  },
  {
   "cell_type": "code",
   "execution_count": 7,
   "id": "ba5c998e",
   "metadata": {},
   "outputs": [],
   "source": [
    "data = data.to_dict(\"index\")"
   ]
  },
  {
   "cell_type": "code",
   "execution_count": 8,
   "id": "42bbef56",
   "metadata": {},
   "outputs": [],
   "source": [
    "for record in data.values():\n",
    "    my_degree = onto.DegreeProgramme(record[\"DegreeProgramme\"].split(\"/\")[-1])\n",
    "    if record[\"International\"] is True:\n",
    "        my_degree = onto.InternationalDegree(record[\"DegreeProgramme\"].split(\"/\")[-1])\n",
    "        \n",
    "#type       \n",
    "    if record[\"type\"] == \"Laurea\":\n",
    "        my_degree = onto.BachelorDegree(record[\"DegreeProgramme\"].split(\"/\")[-1])\n",
    "    if record[\"type\"] == \"Laurea Magistrale\":\n",
    "        my_degree = onto.MasterDegree(record[\"DegreeProgramme\"].split(\"/\")[-1])\n",
    "    if record[\"type\"] == \"Laurea Magistrale a ciclo unico\":\n",
    "        my_degree = onto.SingleCycleDegree(record[\"DegreeProgramme\"].split(\"/\")[-1])\n",
    "        \n",
    "        \n",
    "#access     \n",
    "    if \"libero accesso\" in record[\"AccessType\"]: \n",
    "        my_degree.hasAccessType = [onto.AccessType(\"OpenAccess\")]\n",
    "        my_degree = onto.OpenAccessDegree(my_degree)\n",
    "               \n",
    "    if \"numero chiuso\" in record[\"AccessType\"]:\n",
    "        my_degree.hasAccessType = [onto.AccessType(\"LimitedAccess\")]\n",
    "        my_degree = onto.LimitedAccessDegree(my_degree)\n",
    "                \n",
    "    my_degree.label = record[\"DegreeProgrammeLabel\"]\n",
    "\n",
    "#academic field\n",
    "    my_academicField = onto.AcademicField(record[\"AcademicField\"].replace(\" \", \"_\"))\n",
    "    my_academicField.label = record[\"AcademicField\"]\n",
    "    \n",
    "    my_degree.hasAcademicField.append(my_academicField)\n",
    "    \n",
    "#italian university \n",
    "    my_university = onto.ItalianPublicUniversity(record[\"Italian University\"].replace(\" \", \"_\"))\n",
    "    my_university.label = record[\"Italian University\"]\n",
    "    \n",
    "    my_degree.isDeliveredBy = [onto.ItalianPublicUniversity(my_university)]\n",
    " \n",
    "\n",
    "\n",
    "    if \"Exam\" in record[\"typeOfActivity\"]: \n",
    "        my_educational_activity = onto.Course(record[\"EducationalActivity\"].replace(\" \", \"_\"))\n",
    "        my_educational_activity.hasSsd = [record[\"Ssd\"]]\n",
    "        \n",
    "    if \"Internship\" in record[\"typeOfActivity\"]: \n",
    "        my_educational_activity = onto.Internship(record[\"EducationalActivity\"].replace(\" \", \"_\"))\n",
    "    if \"Seminar\" in record[\"typeOfActivity\"]: \n",
    "        my_educational_activity = onto.Seminar(record[\"EducationalActivity\"].replace(\" \", \"_\"))\n",
    "    if \"Laboratory\" in record[\"typeOfActivity\"]: \n",
    "        my_educational_activity = onto.Laboratory(record[\"EducationalActivity\"].replace(\" \", \"_\"))\n",
    "    if \"Final Test\" in record[\"typeOfActivity\"]: \n",
    "        my_educational_activity = onto.FinalTest(record[\"EducationalActivity\"].replace(\" \", \"_\"))\n",
    "    \n",
    "          \n",
    "    my_educational_activity.label = [record[\"EducationalActivity\"]]\n",
    "    my_educational_activity.hasCfu = [record[\"Cfu\"]]\n",
    "    my_educational_activity.hasTeachingCode = [record[\"TeachingCode\"]]\n",
    "    \n",
    "    \n",
    "    my_degree.hasEducationalActivity.append(my_educational_activity)\n",
    "    \n",
    "    \n",
    "    #Relazione con i dipartimenti\n",
    "    \n",
    "    my_department = onto.Department(record[\"Department\"].replace(\" \", \"_\"))\n",
    "    my_department.label = record[\"Department\"]\n",
    "    \n",
    "    my_degree.isManagedBy = [onto.Department(my_department)]\n",
    "\n",
    "    #relazione tra dipartimenti e università \n",
    "    \n",
    "    my_department.isPartOf.append(my_university)\n",
    "\n",
    "\n",
    "#creiamo l'url\n",
    "    my_degree.hasUrl = [record[\"DegreeProgramme\"]] #data property    \n",
    "    \n",
    "#academic year    \n",
    "    my_degree.hasAcademicYear = [record[\"academicYear\"]] #data property\n",
    "    \n",
    "#degree class    \n",
    "    my_degree.hasDegreeClass = [record[\"DegreeClass\"]] #data property \n",
    "\n",
    "#yearsofDuration\n",
    "    my_degree.hasYearsOfDuration = [record[\"hasYearsOfDuration\"]] #data property \n",
    "    \n",
    "#language\n",
    "    my_degree.hasTeachingLanguage = [record[\"TeachingLanguage\"]] #data property \n",
    "   \n",
    "\n",
    "    #qualification \n",
    "    if \"Titolo unico\" in record[\"Qualification\"]: \n",
    "        my_degree.releases = [onto.Qualification(\"SingleQualification\")]               \n",
    "    if \"Titolo multiplo\" in record[\"Qualification\"]:\n",
    "        my_degree.releases = [onto.Qualification(\"MultipleQualification\")]\n",
    "    if \"Titolo congiunto\" in record[\"Qualification\"]:\n",
    "        my_degree.releases = [onto.Qualification(\"JointQualification\")]  \n",
    "\n",
    "#places (campus)\n",
    "    my_campus = dul.Place(record[\"campus\"].replace(\" \", \"_\"))\n",
    "    my_campus.label = record[\"campus\"]\n",
    "                               \n",
    "    my_degree.hasCampus = [dul.Place(my_campus)]\n",
    "                                                           \n",
    "#places (placesOfTeaching)\n",
    "    my_teachingPlace = dul.Place(record[\"PlaceOfTeaching\"].replace(\" \", \"_\"))\n",
    "    my_teachingPlace.label = record[\"PlaceOfTeaching\"]\n",
    "    \n",
    "    my_degree.hasPlaceOfTeaching = [dul.Place(my_teachingPlace)]\n",
    "\n",
    "\n",
    "    \n",
    "    \n",
    "                                      \n",
    "    \n",
    "    \n",
    "    \n",
    "    #ricordarsi di aggiungere sempre le labels quando si creano nuovi individui "
   ]
  },
  {
   "cell_type": "code",
   "execution_count": 9,
   "id": "be70558b",
   "metadata": {},
   "outputs": [],
   "source": [
    "onto.save(\"Provola.owl\")"
   ]
  },
  {
   "cell_type": "markdown",
   "id": "ad1607f7",
   "metadata": {},
   "source": [
    "Ricorda di provare ad avviare il Reasoner e farlo andare per ore per vedere se arriva a calcolare le relazioni inverse"
   ]
  },
  {
   "cell_type": "markdown",
   "id": "e80d0102",
   "metadata": {},
   "source": [
    "# Da ricordare per la documentation\n",
    "1. Alcune classi non sono state popolate per mancanza di dati. Un esempio è la classe \"Assessment Method\", popolate da instances che non sono state associate a individui esistenti nel database. Anche Curriculum non è stata popolata a causa della mancanza e della difficoltà di integrazione dei dati. \n",
    "2. Ci siamo limitate al database Unibo ma la nostra Ontologia è potenzialmente più potente\n"
   ]
  },
  {
   "cell_type": "code",
   "execution_count": null,
   "id": "32fd76c1",
   "metadata": {},
   "outputs": [],
   "source": []
  }
 ],
 "metadata": {
  "kernelspec": {
   "display_name": "Python 3 (ipykernel)",
   "language": "python",
   "name": "python3"
  },
  "language_info": {
   "codemirror_mode": {
    "name": "ipython",
    "version": 3
   },
   "file_extension": ".py",
   "mimetype": "text/x-python",
   "name": "python",
   "nbconvert_exporter": "python",
   "pygments_lexer": "ipython3",
   "version": "3.7.9"
  }
 },
 "nbformat": 4,
 "nbformat_minor": 5
}
