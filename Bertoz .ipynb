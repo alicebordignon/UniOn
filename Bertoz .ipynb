{
 "cells": [
  {
   "cell_type": "code",
   "execution_count": 1,
   "id": "7d4849c6",
   "metadata": {},
   "outputs": [
    {
     "name": "stdout",
     "output_type": "stream",
     "text": [
      "Requirement already satisfied: owlready2 in c:\\users\\bordi\\appdata\\local\\packages\\pythonsoftwarefoundation.python.3.7_qbz5n2kfra8p0\\localcache\\local-packages\\python37\\site-packages (0.38)\n"
     ]
    },
    {
     "name": "stderr",
     "output_type": "stream",
     "text": [
      "WARNING: You are using pip version 22.0.4; however, version 22.2.2 is available.\n",
      "You should consider upgrading via the 'C:\\Users\\bordi\\AppData\\Local\\Microsoft\\WindowsApps\\PythonSoftwareFoundation.Python.3.7_qbz5n2kfra8p0\\python.exe -m pip install --upgrade pip' command.\n"
     ]
    }
   ],
   "source": [
    "! pip install owlready2"
   ]
  },
  {
   "cell_type": "code",
   "execution_count": 2,
   "id": "8288939c",
   "metadata": {},
   "outputs": [
    {
     "name": "stderr",
     "output_type": "stream",
     "text": [
      "* Owlready2 * Warning: optimized Cython parser module 'owlready2_optimized' is not available, defaulting to slower Python implementation\n"
     ]
    },
    {
     "data": {
      "text/plain": [
       "get_ontology(\"http://www.semanticweb.org/francesca/ontologies/2022/6/untitled-ontology-24#\")"
      ]
     },
     "execution_count": 2,
     "metadata": {},
     "output_type": "execute_result"
    }
   ],
   "source": [
    "from owlready2 import *\n",
    "onto_path.append(\"C:/Users/bordi/OneDrive/Desktop/Gangemi/Ontologia\")\n",
    "onto = get_ontology(\"UniOnt.owl\")\n",
    "onto.load()"
   ]
  },
  {
   "cell_type": "code",
   "execution_count": 3,
   "id": "a986b68b",
   "metadata": {},
   "outputs": [
    {
     "name": "stdout",
     "output_type": "stream",
     "text": [
      "[UniOnt.ItalianPublicUniversity, UniOnt.DegreeProgramme, UniOnt.Course, UniOnt.AssessmentMethod, UniOnt.Department, UniOnt.dul:Place, UniOnt.EducationalActivity, UniOnt.AcademicField, UniOnt.AccessType, UniOnt.BachelorDegree, UniOnt.Campus, UniOnt.Curriculum, UniOnt.Eligibility, UniOnt.InternationalDegree, UniOnt.InternationalQualification, UniOnt.Internship, UniOnt.Laboratory, UniOnt.LimitedAccess, UniOnt.LimitedAccessDegree, UniOnt.OpenAccessDegree, UniOnt.MasterDegree, UniOnt.OpenAccess, UniOnt.OralExam, UniOnt.Project, UniOnt.Seminar, UniOnt.SingleCycleDegree, UniOnt.WrittenExam]\n"
     ]
    }
   ],
   "source": [
    "print(list(onto.classes()))"
   ]
  },
  {
   "cell_type": "code",
   "execution_count": 17,
   "id": "59cc5be7",
   "metadata": {},
   "outputs": [],
   "source": [
    "DegreeProgrammes = [\"ciao\", \"Lorenza\", \"ale bertoz\", \"besos\"]"
   ]
  },
  {
   "cell_type": "code",
   "execution_count": 18,
   "id": "99153ce8",
   "metadata": {},
   "outputs": [],
   "source": [
    "for dp in DegreeProgrammes:\n",
    "    dp_replaced = dp.replace(\" \", \"_\")\n",
    "    my_instance = onto.DegreeProgramme(dp_replaced)\n",
    "    my_instance.label = dp"
   ]
  },
  {
   "cell_type": "code",
   "execution_count": 4,
   "id": "eb430235",
   "metadata": {},
   "outputs": [
    {
     "name": "stdout",
     "output_type": "stream",
     "text": [
      "DHDK\n"
     ]
    }
   ],
   "source": [
    "my_degree = onto.DegreeProgramme(\"DHDK\")\n",
    "print(my_degree.name)"
   ]
  },
  {
   "cell_type": "code",
   "execution_count": 5,
   "id": "99140e21",
   "metadata": {},
   "outputs": [
    {
     "name": "stdout",
     "output_type": "stream",
     "text": [
      "Arti_Visive\n"
     ]
    }
   ],
   "source": [
    "my_degree = onto.DegreeProgramme(\"Arti_Visive\")\n",
    "print(my_degree.name)"
   ]
  },
  {
   "cell_type": "code",
   "execution_count": 19,
   "id": "89b1d8b3",
   "metadata": {},
   "outputs": [],
   "source": [
    "onto.save(\"Prova.owl\")"
   ]
  },
  {
   "cell_type": "code",
   "execution_count": 7,
   "id": "000ce0f3",
   "metadata": {},
   "outputs": [],
   "source": [
    "my_degree.label = \"Arti Visive\""
   ]
  },
  {
   "cell_type": "code",
   "execution_count": 8,
   "id": "955e5ec4",
   "metadata": {},
   "outputs": [],
   "source": [
    "onto.save(\"Prova.owl\")"
   ]
  },
  {
   "cell_type": "code",
   "execution_count": 9,
   "id": "10f46d62",
   "metadata": {},
   "outputs": [],
   "source": [
    "my_campus = onto.Campus(\"Bologna\")"
   ]
  },
  {
   "cell_type": "code",
   "execution_count": 13,
   "id": "17341125",
   "metadata": {},
   "outputs": [],
   "source": [
    "my_degree.hasCampus.append(onto.Bologna)"
   ]
  },
  {
   "cell_type": "code",
   "execution_count": 14,
   "id": "1a8a8fa1",
   "metadata": {},
   "outputs": [],
   "source": [
    "onto.save(\"Prova.owl\")"
   ]
  },
  {
   "cell_type": "code",
   "execution_count": null,
   "id": "7add3dae",
   "metadata": {},
   "outputs": [],
   "source": []
  }
 ],
 "metadata": {
  "kernelspec": {
   "display_name": "Python 3 (ipykernel)",
   "language": "python",
   "name": "python3"
  },
  "language_info": {
   "codemirror_mode": {
    "name": "ipython",
    "version": 3
   },
   "file_extension": ".py",
   "mimetype": "text/x-python",
   "name": "python",
   "nbconvert_exporter": "python",
   "pygments_lexer": "ipython3",
   "version": "3.7.9"
  }
 },
 "nbformat": 4,
 "nbformat_minor": 5
}
